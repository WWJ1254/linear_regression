{
 "cells": [
  {
   "cell_type": "code",
   "execution_count": 1,
   "metadata": {},
   "outputs": [],
   "source": [
    "import numpy as np\n",
    "import matplotlib.pyplot as plt\n",
    "%matplotlib inline"
   ]
  },
  {
   "cell_type": "code",
   "execution_count": 2,
   "metadata": {},
   "outputs": [],
   "source": [
    "import random\n",
    "x=random.sample(range(0,5),5)\n",
    "x = np.reshape(x,newshape=(5,1))\n",
    "y=random.sample(range(0,9),5)\n",
    "y = np.reshape(y,newshape=(5,1))"
   ]
  },
  {
   "cell_type": "code",
   "execution_count": 3,
   "metadata": {},
   "outputs": [
    {
     "data": {
      "text/plain": [
       "<matplotlib.collections.PathCollection at 0xb150ff76a0>"
      ]
     },
     "execution_count": 3,
     "metadata": {},
     "output_type": "execute_result"
    },
    {
     "data": {
      "image/png": "[encoded data removed]",
      "text/plain": [
       "<matplotlib.figure.Figure at 0xb10df039b0>"
      ]
     },
     "metadata": {},
     "output_type": "display_data"
    }
   ],
   "source": [
    "plt.scatter(x,y)"
   ]
  },
  {
   "cell_type": "markdown",
   "metadata": {},
   "source": [
    "模型：y=f(x,b)  \n",
    "策略：最小二乘  \n",
    "算法：梯度下降法  "
   ]
  },
  {
   "cell_type": "code",
   "execution_count": 4,
   "metadata": {},
   "outputs": [],
   "source": [
    "def model(b,b0,x):\n",
    "    return b*x + b0\n",
    "\n",
    "def cost_function(b,b0,x,y):\n",
    "    n=5\n",
    "    return 0.5/n*(np.square(y-b*x-b0)).sum()\n",
    "\n",
    "def optimize(b,b0,x,y,):\n",
    "    n=5\n",
    "    alpha = 1e-1#学习率\n",
    "    y_pred = model(b,b0,x)#线性预测值\n",
    "    db = (1.0/n)*((y_pred - y)*x).sum()\n",
    "    db0 = (1.0/n)*((y_pred - y).sum())\n",
    "    b=b-alpha*db\n",
    "    b0=b0-alpha*db0\n",
    "    return b,b0"
   ]
  },
  {
   "cell_type": "code",
   "execution_count": 5,
   "metadata": {},
   "outputs": [],
   "source": [
    "b=0\n",
    "b0=0"
   ]
  },
  {
   "cell_type": "code",
   "execution_count": 6,
   "metadata": {},
   "outputs": [],
   "source": [
    "def train(b,b0,x,y,times):\n",
    "    for i in range(times):\n",
    "        b,b0=optimize(b,b0,x,y)\n",
    "        \n",
    "    y_pred=model(b,b0,x)\n",
    "    cost=cost_function(b,b0,x,y)\n",
    "    print(cost)\n",
    "    plt.scatter(x,y)\n",
    "    plt.plot(x,y_pred)\n",
    "    return b,b0"
   ]
  },
  {
   "cell_type": "code",
   "execution_count": 7,
   "metadata": {},
   "outputs": [
    {
     "name": "stdout",
     "output_type": "stream",
     "text": [
      "6.83530654294748\n"
     ]
    },
    {
     "data": {
      "image/png": "[encoded data removed]",
      "text/plain": [
       "<matplotlib.figure.Figure at 0xb151033128>"
      ]
     },
     "metadata": {},
     "output_type": "display_data"
    }
   ],
   "source": [
    "b,b0=train(b,b0,x,y,10)"
   ]
  },
  {
   "cell_type": "code",
   "execution_count": 8,
   "metadata": {},
   "outputs": [
    {
     "name": "stdout",
     "output_type": "stream",
     "text": [
      "4.9244727234944445\n"
     ]
    },
    {
     "data": {
      "image/png": "[encoded data removed]",
      "text/plain": [
       "<matplotlib.figure.Figure at 0xb1510835f8>"
      ]
     },
     "metadata": {},
     "output_type": "display_data"
    }
   ],
   "source": [
    "b,b0=train(b,b0,x,y,100)"
   ]
  }
 ],
 "metadata": {
  "kernelspec": {
   "display_name": "Python 3",
   "language": "python",
   "name": "python3"
  },
  "language_info": {
   "codemirror_mode": {
    "name": "ipython",
    "version": 3
   },
   "file_extension": ".py",
   "mimetype": "text/x-python",
   "name": "python",
   "nbconvert_exporter": "python",
   "pygments_lexer": "ipython3",
   "version": "3.6.4"
  }
 },
 "nbformat": 4,
 "nbformat_minor": 2
}
